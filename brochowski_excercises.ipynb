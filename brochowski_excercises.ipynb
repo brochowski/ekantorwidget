{
  "nbformat": 4,
  "nbformat_minor": 0,
  "metadata": {
    "colab": {
      "provenance": [],
      "mount_file_id": "1GoGzGXHemZZXlBMyMNBfy15WGgT6NQsA",
      "authorship_tag": "ABX9TyPfOceB/ommY9WQnVwETXwX",
      "include_colab_link": true
    },
    "kernelspec": {
      "name": "python3",
      "display_name": "Python 3"
    },
    "language_info": {
      "name": "python"
    }
  },
  "cells": [
    {
      "cell_type": "markdown",
      "metadata": {
        "id": "view-in-github",
        "colab_type": "text"
      },
      "source": [
        "<a href=\"https://colab.research.google.com/github/brochowski/ekantorwidget/blob/main/brochowski_excercises.ipynb\" target=\"_parent\"><img src=\"https://colab.research.google.com/assets/colab-badge.svg\" alt=\"Open In Colab\"/></a>"
      ]
    },
    {
      "cell_type": "code",
      "execution_count": null,
      "metadata": {
        "colab": {
          "base_uri": "https://localhost:8080/"
        },
        "id": "ZiUEvSDx8BW9",
        "outputId": "b0a24de3-490f-4b08-ab16-80321e428418"
      },
      "outputs": [
        {
          "output_type": "stream",
          "name": "stdout",
          "text": [
            "Requirement already satisfied: scikit-learn in /usr/local/lib/python3.10/dist-packages (1.2.2)\n",
            "Collecting scikit-learn\n",
            "  Downloading scikit_learn-1.3.0-cp310-cp310-manylinux_2_17_x86_64.manylinux2014_x86_64.whl (10.8 MB)\n",
            "\u001b[2K     \u001b[90m━━━━━━━━━━━━━━━━━━━━━━━━━━━━━━━━━━━━━━━━\u001b[0m \u001b[32m10.8/10.8 MB\u001b[0m \u001b[31m79.1 MB/s\u001b[0m eta \u001b[36m0:00:00\u001b[0m\n",
            "\u001b[?25hRequirement already satisfied: numpy>=1.17.3 in /usr/local/lib/python3.10/dist-packages (from scikit-learn) (1.22.4)\n",
            "Requirement already satisfied: scipy>=1.5.0 in /usr/local/lib/python3.10/dist-packages (from scikit-learn) (1.10.1)\n",
            "Requirement already satisfied: joblib>=1.1.1 in /usr/local/lib/python3.10/dist-packages (from scikit-learn) (1.3.1)\n",
            "Requirement already satisfied: threadpoolctl>=2.0.0 in /usr/local/lib/python3.10/dist-packages (from scikit-learn) (3.1.0)\n",
            "Installing collected packages: scikit-learn\n",
            "  Attempting uninstall: scikit-learn\n",
            "    Found existing installation: scikit-learn 1.2.2\n",
            "    Uninstalling scikit-learn-1.2.2:\n",
            "      Successfully uninstalled scikit-learn-1.2.2\n",
            "Successfully installed scikit-learn-1.3.0\n"
          ]
        }
      ],
      "source": [
        "!pip install --upgrade scikit-learn"
      ]
    },
    {
      "cell_type": "code",
      "source": [
        "import numpy as np\n",
        "import pandas as pd\n",
        "import sklearn\n",
        "\n",
        "sklearn.__version__"
      ],
      "metadata": {
        "colab": {
          "base_uri": "https://localhost:8080/",
          "height": 35
        },
        "id": "5DYL9F3mHdd1",
        "outputId": "06d24287-e4b2-48c5-e68e-c50ea7516551"
      },
      "execution_count": 2,
      "outputs": [
        {
          "output_type": "execute_result",
          "data": {
            "text/plain": [
              "'1.2.2'"
            ],
            "application/vnd.google.colaboratory.intrinsic+json": {
              "type": "string"
            }
          },
          "metadata": {},
          "execution_count": 2
        }
      ]
    },
    {
      "cell_type": "code",
      "source": [
        "df = pd.read_csv('/content/drive/MyDrive/Bufor/export.csv', sep=';')\n",
        "dta_cp = df\n",
        "dta_cp.columns = dta_cp.iloc[0]\n",
        "dta_cp = dta_cp.iloc[1:]\n",
        "dta_cp = dta_cp.iloc[:, 2:]\n",
        "\n",
        "new_column_names = ['DATE', 'EX_BUYING', 'EX_SELLING', 'SPREAD']\n",
        "dta_cp.columns = new_column_names\n",
        "\n",
        "dta_cp['EX_BUYING'] = dta_cp['EX_BUYING'].str.replace(',', '.').astype(float)  # Konwertuj kolumnę EX_BUYING na float\n",
        "dta_cp['EX_SELLING'] = dta_cp['EX_SELLING'].str.replace(',', '.').astype(float)  # Konwertuj kolumnę EX_SEELING na float\n",
        "\n",
        "dta_cp['SPREAD'] = dta_cp['EX_SELLING'] - dta_cp['EX_BUYING']\n",
        "\n",
        "##print(dta_cp.columns)\n",
        "print(dta_cp.tail())"
      ],
      "metadata": {
        "colab": {
          "base_uri": "https://localhost:8080/"
        },
        "id": "BXgvy0eDPqAs",
        "outputId": "36b26774-2303-423f-919e-e906ec44c7ce"
      },
      "execution_count": 38,
      "outputs": [
        {
          "output_type": "stream",
          "name": "stdout",
          "text": [
            "                         DATE  EX_BUYING  EX_SELLING  SPREAD\n",
            "2137  2023-07-11T05:49:35.668     4.0046      4.0609  0.0563\n",
            "2138  2023-07-11T06:05:04.035     4.0040      4.0604  0.0564\n",
            "2139  2023-07-11T06:20:09.838     4.0043      4.0607  0.0564\n",
            "2140  2023-07-11T06:35:13.447     4.0034      4.0599  0.0565\n",
            "2141  2023-07-11T06:36:53.597     4.0030      4.0594  0.0564\n"
          ]
        }
      ]
    }
  ]
}